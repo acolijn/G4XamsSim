{
 "cells": [
  {
   "cell_type": "markdown",
   "metadata": {},
   "source": [
    "#### Data analysis notebook\n",
    "\n",
    "Reads in the data files and plot results\n",
    "\n"
   ]
  },
  {
   "cell_type": "code",
   "execution_count": 1,
   "metadata": {},
   "outputs": [],
   "source": [
    "from RunManager import RunManager\n",
    "import matplotlib.pyplot as plt\n",
    "import numpy as np"
   ]
  },
  {
   "cell_type": "code",
   "execution_count": 2,
   "metadata": {},
   "outputs": [
    {
     "data": {
      "text/html": [
       "<div>\n",
       "<style scoped>\n",
       "    .dataframe tbody tr th:only-of-type {\n",
       "        vertical-align: middle;\n",
       "    }\n",
       "\n",
       "    .dataframe tbody tr th {\n",
       "        vertical-align: top;\n",
       "    }\n",
       "\n",
       "    .dataframe thead th {\n",
       "        text-align: right;\n",
       "    }\n",
       "</style>\n",
       "<table border=\"1\" class=\"dataframe\">\n",
       "  <thead>\n",
       "    <tr style=\"text-align: right;\">\n",
       "      <th></th>\n",
       "      <th>id</th>\n",
       "      <th>particle</th>\n",
       "      <th>ion</th>\n",
       "      <th>energy</th>\n",
       "      <th>sourceVolume</th>\n",
       "      <th>outputDir</th>\n",
       "      <th>outputFile</th>\n",
       "      <th>numEvents</th>\n",
       "      <th>numJobs</th>\n",
       "      <th>randomSeed</th>\n",
       "      <th>settingsFile</th>\n",
       "      <th>status</th>\n",
       "    </tr>\n",
       "  </thead>\n",
       "  <tbody>\n",
       "    <tr>\n",
       "      <th>0</th>\n",
       "      <td>run_01</td>\n",
       "      <td>ion</td>\n",
       "      <td>11 22</td>\n",
       "      <td></td>\n",
       "      <td></td>\n",
       "      <td>/data/xenon/acolijn/G4XamsSim/20240829_144349</td>\n",
       "      <td>na22</td>\n",
       "      <td>100000</td>\n",
       "      <td>10</td>\n",
       "      <td>932629</td>\n",
       "      <td>settings.json</td>\n",
       "      <td>active</td>\n",
       "    </tr>\n",
       "  </tbody>\n",
       "</table>\n",
       "</div>"
      ],
      "text/plain": [
       "       id particle    ion energy sourceVolume  \\\n",
       "0  run_01      ion  11 22                       \n",
       "\n",
       "                                       outputDir outputFile  numEvents  \\\n",
       "0  /data/xenon/acolijn/G4XamsSim/20240829_144349       na22     100000   \n",
       "\n",
       "   numJobs  randomSeed   settingsFile  status  \n",
       "0       10      932629  settings.json  active  "
      ]
     },
     "metadata": {},
     "output_type": "display_data"
    }
   ],
   "source": [
    "manager = RunManager(\"../scripts/config.json\")\n",
    "display(manager.display_all_runs(include_deleted=False))"
   ]
  }
 ],
 "metadata": {
  "kernelspec": {
   "display_name": "Python 3",
   "language": "python",
   "name": "python3"
  },
  "language_info": {
   "codemirror_mode": {
    "name": "ipython",
    "version": 3
   },
   "file_extension": ".py",
   "mimetype": "text/x-python",
   "name": "python",
   "nbconvert_exporter": "python",
   "pygments_lexer": "ipython3",
   "version": "3.11.9"
  }
 },
 "nbformat": 4,
 "nbformat_minor": 2
}
