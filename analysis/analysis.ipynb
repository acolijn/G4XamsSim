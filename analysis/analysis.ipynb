{
 "cells": [
  {
   "cell_type": "markdown",
   "metadata": {},
   "source": [
    "#### Data analysis notebook\n",
    "\n",
    "Reads in the data files and plot results\n",
    "\n"
   ]
  },
  {
   "cell_type": "code",
   "execution_count": null,
   "metadata": {},
   "outputs": [],
   "source": [
    "from RunManager import RunManager\n",
    "from Geant4Analyzer import Geant4Analyzer\n",
    "import matplotlib.pyplot as plt\n",
    "import numpy as np\n"
   ]
  },
  {
   "cell_type": "code",
   "execution_count": null,
   "metadata": {},
   "outputs": [],
   "source": [
    "manager = RunManager(\"../run/rundb.json\")\n",
    "display(manager.display_all_runs(include_deleted=False))"
   ]
  },
  {
   "cell_type": "code",
   "execution_count": null,
   "metadata": {},
   "outputs": [],
   "source": [
    "# cut on the global event variables\n",
    "gxe = 0 # gaseous xenon\n",
    "lxe = 1 # liquid xenon\n",
    "nai = 2 # NaI\n",
    "\n",
    "cut = lambda data: (data['ndet'][:,lxe] == 1 ) & (data['edet'][:,nai] > 500) & (data['edet'][:,nai] < 520)\n",
    "# additional cuts on the clusters\n",
    "#cut_hit = lambda data: (data['r'] < 35.) & (data['zh'] < 0.) & (data['zh']>-60.) & (data['eh'] > 0.)\n",
    "cut_hit = lambda data: (data['eh'] > 0.)\n",
    "\n",
    "std = Geant4Analyzer(\"run_05\", first_only=False)\n",
    "std.preprocess_data(cut=cut, cut_hit=cut_hit)\n"
   ]
  },
  {
   "cell_type": "code",
   "execution_count": null,
   "metadata": {},
   "outputs": [],
   "source": [
    "h = plt.hist2d(std.data['xh'], std.data['yh'], bins=250, range=[[-175,175],[-75,275]])"
   ]
  },
  {
   "cell_type": "code",
   "execution_count": null,
   "metadata": {},
   "outputs": [],
   "source": [
    "ax = std.plot_histogram(\"eh\", bins=1000, range=(0, 1700), show=False)\n",
    "ax.set_yscale('log')\n",
    "plt.show()"
   ]
  },
  {
   "cell_type": "code",
   "execution_count": null,
   "metadata": {},
   "outputs": [],
   "source": [
    "h2 = plt.hist2d(std.data['xh'][std.data['id']==1], std.data['yh'][std.data['id']==1], bins=200, range=((-100, 100), (-100, 100)))\n",
    "plt.xlabel(\"r (mm)\")\n",
    "plt.ylabel(\"z (mm)\")"
   ]
  },
  {
   "cell_type": "code",
   "execution_count": null,
   "metadata": {},
   "outputs": [],
   "source": [
    "h2 = plt.hist2d(std.data['r'][std.data['id']==1], std.data['zh'][std.data['id']==1], bins=100, range=((0, 120), (-120, 20)))\n",
    "plt.xlabel(\"r (mm)\")\n",
    "plt.ylabel(\"z (mm)\")"
   ]
  },
  {
   "cell_type": "code",
   "execution_count": null,
   "metadata": {},
   "outputs": [],
   "source": [
    "h = plt.hist(std.data['edet'][:,lxe], bins=200, range=(0, 2500), histtype='step')\n",
    "plt.yscale('linear')"
   ]
  },
  {
   "cell_type": "code",
   "execution_count": null,
   "metadata": {},
   "outputs": [],
   "source": []
  }
 ],
 "metadata": {
  "kernelspec": {
   "display_name": "Python 3",
   "language": "python",
   "name": "python3"
  },
  "language_info": {
   "codemirror_mode": {
    "name": "ipython",
    "version": 3
   },
   "file_extension": ".py",
   "mimetype": "text/x-python",
   "name": "python",
   "nbconvert_exporter": "python",
   "pygments_lexer": "ipython3",
   "version": "3.11.9"
  }
 },
 "nbformat": 4,
 "nbformat_minor": 2
}
